{
 "cells": [
  {
   "cell_type": "markdown",
   "metadata": {},
   "source": [
    "# arDCA\n",
    "## Load package"
   ]
  },
  {
   "cell_type": "code",
   "execution_count": 1,
   "metadata": {},
   "outputs": [
    {
     "name": "stdout",
     "output_type": "stream",
     "text": [
      "/home/andonis/ARPE/git_repo/Phylogeny-Partners-Lab-light/2_states_generation_inference/data_ardca/"
     ]
    }
   ],
   "source": [
    "mypkgdir = normpath(joinpath(pwd(),\"..\"))\n",
    "datadir=joinpath(mypkgdir,\"2_states_generation_inference/data_ardca/\") # put here your path BE CARREFOUL TO HAVE THE GOOD PATH finishing by /\n",
    "using Pkg\n",
    "Pkg.activate(mypkgdir)\n",
    "using ArDCA\n",
    "\n",
    "print(datadir)"
   ]
  },
  {
   "cell_type": "markdown",
   "metadata": {},
   "source": [
    "## Learning the parameters"
   ]
  },
  {
   "cell_type": "code",
   "execution_count": 2,
   "metadata": {},
   "outputs": [
    {
     "data": {
      "text/plain": [
       "learn_save_parameter (generic function with 1 method)"
      ]
     },
     "execution_count": 2,
     "metadata": {},
     "output_type": "execute_result"
    }
   ],
   "source": [
    "using ExtractMacro: @extract\n",
    "using PyCall\n",
    "@pyimport numpy as np \n",
    "\n",
    "function learn_save_parameter(fastafile)\n",
    "    lambdaJ = 0.002\n",
    "    lambdaH = 0.0001\n",
    "    \n",
    "    dir_fastafile = joinpath(datadir, fastafile)\n",
    "    print(dir_fastafile)\n",
    "    arnet,arvar=ardca(dir_fastafile, verbose=false, lambdaJ=lambdaJ, lambdaH=lambdaH, epsconv=1.0e-5, theta = 0.2, remove_dups=true);\n",
    "    \n",
    "    @extract arnet:H J p0 idxperm\n",
    "    name_common = fastafile[1:end-6]\n",
    "    \n",
    "    H_python = transpose(hcat(H...))\n",
    "    np.save(join([datadir, \"H_\", name_common, \".npy\"]), H_python)\n",
    "\n",
    "    J_python = -1*ones((size(J)[1] , size(last(J))...))\n",
    "    N = length(H)\n",
    "    q = size(H[1])[1]\n",
    "    for site in 1:N\n",
    "        Js = J[site]\n",
    "        for i in 1:site\n",
    "            for a in 1:q\n",
    "                for b in 1:q\n",
    "                    J_python[site,a,b,i]= Js[a,b,i]\n",
    "                end\n",
    "            end\n",
    "        end\n",
    "    end\n",
    "    np.save( join([datadir, \"J_\", name_common, \".npy\"]) , J_python)\n",
    "\n",
    "    np.save( join([datadir, \"p0_\", name_common, \".npy\"]) , p0)\n",
    "\n",
    "    np.save( join([datadir, \"idxperm_\", name_common, \".npy\"]) , idxperm)\n",
    "    end\n"
   ]
  },
  {
   "cell_type": "code",
   "execution_count": 3,
   "metadata": {},
   "outputs": [
    {
     "name": "stdout",
     "output_type": "stream",
     "text": [
      "/home/andonis/ARPE/git_repo/Phylogeny-Partners-Lab-light/2_states_generation_inference/data_ardca/msa_no_phylo.fastaremoving duplicate sequences... done: 1024 -> 1024\n",
      "θ = 0.2 threshold = 40.0\n",
      "M = 1024 N = 200 Meff = 1024.0\n",
      "/home/andonis/ARPE/git_repo/Phylogeny-Partners-Lab-light/2_states_generation_inference/data_ardca/msa_phylo.fastaremoving duplicate sequences... done: 1024 -> 1024\n",
      "θ = 0.2 threshold = 40.0\n",
      "M = 1024 N = 200 Meff = 468.9166666666656\n"
     ]
    }
   ],
   "source": [
    "fastafile = \"msa_no_phylo.fasta\"\n",
    "learn_save_parameter(fastafile)\n",
    "fastafile = \"msa_phylo.fasta\"\n",
    "learn_save_parameter(fastafile)"
   ]
  }
 ],
 "metadata": {
  "kernelspec": {
   "display_name": "Julia 1.6.1",
   "language": "julia",
   "name": "julia-1.6"
  },
  "language_info": {
   "file_extension": ".jl",
   "mimetype": "application/julia",
   "name": "julia",
   "version": "1.6.1"
  }
 },
 "nbformat": 4,
 "nbformat_minor": 4
}
