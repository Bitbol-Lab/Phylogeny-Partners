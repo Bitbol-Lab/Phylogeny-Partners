{
 "cells": [
  {
   "cell_type": "markdown",
   "metadata": {},
   "source": [
    "# arDCA\n",
    "## Load package"
   ]
  },
  {
   "cell_type": "code",
   "execution_count": null,
   "metadata": {},
   "outputs": [],
   "source": [
    "mypkgdir = normpath(joinpath(pwd(),\"..\"))\n",
    "datadir=joinpath(mypkgdir,\"2_states_generation_inference/data_ardca/\") # put here your path BE CARREFOUL TO HAVE THE GOOD PATH finishing by /\n",
    "using Pkg\n",
    "Pkg.activate(mypkgdir)\n",
    "using ArDCA\n",
    "\n",
    "print(datadir)"
   ]
  },
  {
   "cell_type": "markdown",
   "metadata": {},
   "source": [
    "## Learning the parameters"
   ]
  },
  {
   "cell_type": "code",
   "execution_count": null,
   "metadata": {},
   "outputs": [],
   "source": [
    "using ExtractMacro: @extract\n",
    "using PyCall\n",
    "@pyimport numpy as np \n",
    "\n",
    "function learn_save_parameter(fastafile)\n",
    "    lambdaJ = 0.002\n",
    "    lambdaH = 0.0001\n",
    "    \n",
    "    dir_fastafile = joinpath(datadir, fastafile)\n",
    "    print(dir_fastafile)\n",
    "    arnet,arvar=ardca(dir_fastafile, verbose=false, lambdaJ=lambdaJ, lambdaH=lambdaH, epsconv=1.0e-5, theta = 0.2, remove_dups=true);\n",
    "    \n",
    "    @extract arnet:H J p0 idxperm\n",
    "    name_common = fastafile[1:end-6]\n",
    "    \n",
    "    H_python = transpose(hcat(H...))\n",
    "    np.save(join([datadir, \"H_\", name_common, \".npy\"]), H_python)\n",
    "\n",
    "    J_python = -1*ones((size(J)[1] , size(last(J))...))\n",
    "    N = length(H)\n",
    "    q = size(H[1])[1]\n",
    "    for site in 1:N\n",
    "        Js = J[site]\n",
    "        for i in 1:site\n",
    "            for a in 1:q\n",
    "                for b in 1:q\n",
    "                    J_python[site,a,b,i]= Js[a,b,i]\n",
    "                end\n",
    "            end\n",
    "        end\n",
    "    end\n",
    "    np.save( join([datadir, \"J_\", name_common, \".npy\"]) , J_python)\n",
    "\n",
    "    np.save( join([datadir, \"p0_\", name_common, \".npy\"]) , p0)\n",
    "\n",
    "    np.save( join([datadir, \"idxperm_\", name_common, \".npy\"]) , idxperm)\n",
    "    end\n"
   ]
  },
  {
   "cell_type": "code",
   "execution_count": null,
   "metadata": {},
   "outputs": [],
   "source": [
    "fastafile = \"msa_no_phylo.fasta\"\n",
    "learn_save_parameter(fastafile)\n",
    "fastafile = \"msa_phylo.fasta\"\n",
    "learn_save_parameter(fastafile)"
   ]
  },
  {
   "cell_type": "markdown",
   "metadata": {},
   "source": [
    "## Generating sequences"
   ]
  },
  {
   "cell_type": "code",
   "execution_count": null,
   "metadata": {},
   "outputs": [],
   "source": [
    "M = 10;\n",
    "generated_alignment = sample(arnet,M);"
   ]
  },
  {
   "cell_type": "code",
   "execution_count": null,
   "metadata": {},
   "outputs": [],
   "source": [
    "generated_alignment"
   ]
  }
 ],
 "metadata": {
  "kernelspec": {
   "display_name": "Julia 1.6.1",
   "language": "julia",
   "name": "julia-1.6"
  },
  "language_info": {
   "file_extension": ".jl",
   "mimetype": "application/julia",
   "name": "julia",
   "version": "1.6.1"
  }
 },
 "nbformat": 4,
 "nbformat_minor": 4
}
