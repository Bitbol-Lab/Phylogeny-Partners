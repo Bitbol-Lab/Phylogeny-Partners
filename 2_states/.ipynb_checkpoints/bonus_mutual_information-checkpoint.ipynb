{
 "cells": [
  {
   "cell_type": "markdown",
   "metadata": {},
   "source": [
    "# Mutual Information "
   ]
  },
  {
   "cell_type": "code",
   "execution_count": 4,
   "metadata": {},
   "outputs": [],
   "source": [
    "import networkx as nx\n",
    "import numpy as np\n",
    "import matplotlib.pyplot as plt\n",
    "import matplotlib\n",
    "import seaborn as sns\n",
    "import code_two_states.generation_sequences as ge \n",
    "import code_two_states.inference_partners as inf\n",
    "import code_two_states.mutual_info as mu\n",
    "from code_two_states.utility_plot import *\n",
    "from code_two_states.loop_function import *\n",
    "\n",
    "########## ASPECT #################\n",
    "width = \"article\"\n",
    "width_pt = 430.00462\n",
    "\n",
    "cmaps_sns = sns.color_palette(\"colorblind\", 10)\n",
    "l_AF = [0, 3, 2, 8, 1, 4, 5, 6, 7, 9]\n",
    "cmaps = []\n",
    "for i in l_AF:\n",
    "    cmaps.append(cmaps_sns[i])\n",
    "sns.set_theme(context='notebook', style='ticks', palette=cmaps, color_codes=True, rc=None)\n",
    "\n",
    "tex_fonts = {\n",
    "    # Use LaTeX to write all text\n",
    "    \"text.usetex\": False,\n",
    "    \"font.family\": \"arial\",\n",
    "    # Use 10pt font in plots, to maT_ch 10pt font in document\n",
    "    \"font.size\": 10,\n",
    "    \"axes.titlesize\" : 10,\n",
    "    # Make the legend/label fonts a little smaller\n",
    "    \"legend.fontsize\": 9,\n",
    "    \"axes.labelsize\": 9,\n",
    "    \"xtick.labelsize\": 9,\n",
    "    \"ytick.labelsize\": 9,\n",
    "    \"lines.linewidth\" : 1.3,\n",
    "    'axes.linewidth' : 1,\n",
    "}\n",
    "\n",
    "plt.rcParams.update(tex_fonts)\n",
    "########## ASPECT #################\n",
    "\n",
    "\n",
    "Graph = nx.read_gexf(\"graphes/Graph_Erdos\",node_type=int)\n",
    "\n",
    "n_generations = 10 # 2^10 = 1024 chain of spin\n",
    "middle_index = 100\n",
    "n_mutations_branch = 5\n",
    "n_avg = 30\n",
    "\n",
    "Ta = 2.0\n",
    "Tb = 5.0\n",
    "\n",
    "s_train = 400\n",
    "theta = 0.0\n",
    "pseudo_count = 0.5\n",
    "n_pair_species = 4\n",
    "\n",
    "pseudo_count_MI = 0.015\n",
    "\n",
    "label_0 = \"Contacts only\"\n",
    "label_1 = \"Phylo rand.\"\n",
    "label_2 = \"Contacts & phylogeny\"\n",
    "label_3 = \"Phylogeny only\"\n",
    "label_4 = \"Null model\"\n",
    "ylabel = \"Correct prediction fraction\""
   ]
  },
  {
   "cell_type": "markdown",
   "metadata": {},
   "source": [
    "## Impact number of mutations per generations"
   ]
  },
  {
   "cell_type": "code",
   "execution_count": null,
   "metadata": {},
   "outputs": [
    {
     "name": "stdout",
     "output_type": "stream",
     "text": [
      "Standard Temperature is 1.0\n",
      "Number of flip to reach equilibrium is 4000\n"
     ]
    }
   ],
   "source": [
    "l_n_mutations_branch = np.linspace(2, 100, num=1, dtype=int)\n",
    "n_seq = int(2**n_generations)\n",
    "d_muta = {\"n_mutations_branch\" : l_n_mutations_branch}\n",
    "sampling = ge.Sampling_msa_two_states(Graph)\n",
    "\n",
    "sampling.T = Ta\n",
    "l_msa_no_phylo_Ta = loop_on_function(n_avg,sampling.msa_no_phylo,n_seq)\n",
    "l_l_msa_binary_tree_rand_Ta = loop_sampling_parameter(n_avg,d_muta,sampling.msa_binary_tree,n_generations=n_generations,start_equi=0)\n",
    "l_l_msa_binary_tree_equi_Ta = loop_sampling_parameter(n_avg,d_muta,sampling.msa_binary_tree,n_generations=n_generations,start_equi=1)\n",
    "\n",
    "l_l_msa_binary_tree_rand_phylo = loop_sampling_parameter(n_avg, d_muta,sampling.msa_binary_tree_pure_phylo, n_generations=n_generations, start_equi=0)\n",
    "\n",
    "sampling.T = Tb\n",
    "l_msa_no_phylo_Tb = loop_on_function(n_avg,sampling.msa_no_phylo,n_seq)\n",
    "l_l_msa_binary_tree_rand_Tb = loop_sampling_parameter(n_avg,d_muta,sampling.msa_binary_tree,n_generations=n_generations,start_equi=0)\n",
    "l_l_msa_binary_tree_equi_Tb = loop_sampling_parameter(n_avg,d_muta,sampling.msa_binary_tree,n_generations=n_generations,start_equi=1)"
   ]
  },
  {
   "cell_type": "markdown",
   "metadata": {},
   "source": [
    "## DCA"
   ]
  },
  {
   "cell_type": "code",
   "execution_count": null,
   "metadata": {},
   "outputs": [],
   "source": [
    "args = [s_train, pseudo_count, n_pair_species]\n",
    "\n",
    "no_phylo_Ta = inf.Inference_Partner(l_msa_no_phylo_Ta, *args, fast=True)\n",
    "l_binary_tree_rand_mut_Ta = loop_inf_partners_data(inf.Inference_Partner, l_l_msa_binary_tree_rand_Ta, theta, *args)\n",
    "l_binary_tree_equi_mut_Ta = loop_inf_partners_data(inf.Inference_Partner, l_l_msa_binary_tree_equi_Ta, theta, *args)\n",
    "\n",
    "l_binary_tree_rand_phylo = loop_inf_partners_data(inf.Inference_Partner, l_l_msa_binary_tree_rand_phylo, theta, *args)\n",
    "\n",
    "no_phylo_Tb = inf.Inference_Partner(l_msa_no_phylo_Tb, *args, fast=True)\n",
    "l_binary_tree_rand_mut_Tb = loop_inf_partners_data(inf.Inference_Partner, l_l_msa_binary_tree_rand_Tb, theta, *args)\n",
    "l_binary_tree_equi_mut_Tb = loop_inf_partners_data(inf.Inference_Partner, l_l_msa_binary_tree_equi_Tb, theta, *args)"
   ]
  },
  {
   "cell_type": "markdown",
   "metadata": {},
   "source": [
    "## MI"
   ]
  },
  {
   "cell_type": "code",
   "execution_count": null,
   "metadata": {},
   "outputs": [],
   "source": [
    "args = [s_train, pseudo_count_MI, n_pair_species]\n",
    "\n",
    "no_phylo_Ta_mi = mu.Inference_Partner_Mutual_Info(l_msa_no_phylo_Ta, *args, fast=True)\n",
    "l_binary_tree_rand_mut_Ta_mi = loop_inf_partners_data(mu.Inference_Partner_Mutual_Info, l_l_msa_binary_tree_rand_Ta, theta, *args)\n",
    "l_binary_tree_equi_mut_Ta_mi = loop_inf_partners_data(mu.Inference_Partner_Mutual_Info, l_l_msa_binary_tree_equi_Ta, theta, *args)\n",
    "\n",
    "l_binary_tree_rand_phylo_mi = loop_inf_partners_data(mu.Inference_Partner_Mutual_Info, l_l_msa_binary_tree_rand_phylo, theta, *args)\n",
    "\n",
    "no_phylo_Tb_mi = mu.Inference_Partner_Mutual_Info(l_msa_no_phylo_Tb, *args, fast=True)\n",
    "l_binary_tree_rand_mut_Tb_mi = loop_inf_partners_data(mu.Inference_Partner_Mutual_Info, l_l_msa_binary_tree_rand_Tb, theta, *args)\n",
    "l_binary_tree_equi_mut_Tb_mi = loop_inf_partners_data(mu.Inference_Partner_Mutual_Info, l_l_msa_binary_tree_equi_Tb, theta, *args)\n"
   ]
  },
  {
   "cell_type": "code",
   "execution_count": null,
   "metadata": {},
   "outputs": [],
   "source": [
    "figsize = set_size(width,subplots=(1,2),scale_height=1.3)\n",
    "fig, ax =  plt.subplots(figsize=figsize, ncols=2)\n",
    "\n",
    "ax[0].plot(l_n_mutations_branch,[no_phylo_Ta for i in l_n_mutations_branch], color = cmaps[0], label = label_0)\n",
    "ax[0].plot(l_n_mutations_branch,l_binary_tree_rand_mut_Ta, color = cmaps[1], label = label_1)\n",
    "ax[0].plot(l_n_mutations_branch,l_binary_tree_equi_mut_Ta, color = cmaps[2], label = label_2)\n",
    "ax[0].plot(l_n_mutations_branch,l_binary_tree_rand_phylo, color = cmaps[3], label = label_3)\n",
    "\n",
    "ax[0].plot(l_n_mutations_branch,[no_phylo_Ta_mi for i in l_n_mutations_branch], ls=\"--\", color = cmaps[0], label = label_0)\n",
    "ax[0].plot(l_n_mutations_branch,l_binary_tree_rand_mut_Ta_mi, color = cmaps[1], ls=\"--\", label = label_1 + \" MI\")\n",
    "ax[0].plot(l_n_mutations_branch,l_binary_tree_equi_mut_Ta_mi, color = cmaps[2], ls=\"--\", label = label_2 + \" MI\")\n",
    "ax[0].plot(l_n_mutations_branch,l_binary_tree_rand_phylo_mi, color = cmaps[3], ls=\"--\", label = label_3 + \" MI\")\n",
    "ax[0].hlines(1/n_pair_species,l_n_mutations_branch[0],l_n_mutations_branch[-1], color = cmaps[4], label = label_4)\n",
    "ax[0].set_xlabel(\"Number of mutations per branch\")\n",
    "ax[0].set_ylabel(ylabel)\n",
    "ax[0].get_xaxis().set_major_formatter(matplotlib.ticker.ScalarFormatter())\n",
    "ax[0].grid(which='both')\n",
    "ax[0].set_title(\"$T = %s \\quad (T < T_c)$\"%Ta)\n",
    "ax[0].set_ylim(0.2,1.05)\n",
    "\n",
    "ax[1].plot(l_n_mutations_branch,[no_phylo_Tb for i in l_n_mutations_branch], color = cmaps[0], label = label_0)\n",
    "ax[1].plot(l_n_mutations_branch,l_binary_tree_rand_mut_Tb, color = cmaps[1], label = label_1)\n",
    "ax[1].plot(l_n_mutations_branch,l_binary_tree_equi_mut_Tb, color = cmaps[2], label = label_2)\n",
    "ax[1].plot(l_n_mutations_branch,l_binary_tree_rand_phylo, color = cmaps[3], label = label_3)\n",
    "\n",
    "ax[1].plot(l_n_mutations_branch,[no_phylo_Tb_mi for i in l_n_mutations_branch], ls=\"--\", color = cmaps[0], label = label_0 + \" MI\")\n",
    "ax[1].plot(l_n_mutations_branch,l_binary_tree_rand_mut_Tb_mi, color = cmaps[1], ls=\"--\", label = label_1 + \" MI\")\n",
    "ax[1].plot(l_n_mutations_branch,l_binary_tree_equi_mut_Tb_mi, color = cmaps[2], ls=\"--\", label = label_2 + \" MI\")\n",
    "ax[1].plot(l_n_mutations_branch,l_binary_tree_rand_phylo_mi, color = cmaps[3], ls=\"--\", label = label_3 + \" MI\")\n",
    "ax[1].hlines(1/n_pair_species,l_n_mutations_branch[0],l_n_mutations_branch[-1], color = cmaps[4], label = label_4)\n",
    "ax[1].get_xaxis().set_major_formatter(matplotlib.ticker.ScalarFormatter())\n",
    "#ax[1].grid(which='both')\n",
    "ax[1].set_title(\"$T = %s \\quad (T > T_c)$\"%Tb)\n",
    "ax[1].legend(bbox_to_anchor=(1, 1))\n",
    "ax[1].set_ylim(0.2,1.05)\n",
    "   \n",
    "fig.tight_layout()\n",
    "fig.savefig(\"figures_MI_DCA/Partners_NumberMutation_MI_DCA.eps\",bbox_inches = \"tight\")\n",
    "plt.show()"
   ]
  }
 ],
 "metadata": {
  "kernelspec": {
   "display_name": "Python 3",
   "language": "python",
   "name": "python3"
  },
  "language_info": {
   "codemirror_mode": {
    "name": "ipython",
    "version": 3
   },
   "file_extension": ".py",
   "mimetype": "text/x-python",
   "name": "python",
   "nbconvert_exporter": "python",
   "pygments_lexer": "ipython3",
   "version": "3.8.5"
  }
 },
 "nbformat": 4,
 "nbformat_minor": 4
}
